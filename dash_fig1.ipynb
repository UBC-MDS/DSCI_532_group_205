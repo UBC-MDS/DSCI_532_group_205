{
 "cells": [
  {
   "cell_type": "code",
   "execution_count": 114,
   "metadata": {},
   "outputs": [],
   "source": [
    "import pandas as pd\n",
    "import altair as alt\n",
    "from vega_datasets import data"
   ]
  },
  {
   "cell_type": "code",
   "execution_count": 115,
   "metadata": {},
   "outputs": [],
   "source": [
    "df = data.movies()\n",
    "\n",
    "# Convert string dates to `datetime`\n",
    "df[\"Release_Date\"] = pd.to_datetime(df[\"Release_Date\"], format=\"%b %d %Y\")\n",
    "\n",
    "# Fix invalid dates that are in wrong century\n",
    "df.loc[df[\"Release_Date\"] > \"2012\", \"Release_Date\"] -= pd.DateOffset(years=100)\n",
    "\n",
    "# Having just the year separated from the full data will make charting and querying easier\n",
    "df[\"Release_Year\"] = df[\"Release_Date\"].dt.year"
   ]
  },
  {
   "cell_type": "code",
   "execution_count": 138,
   "metadata": {},
   "outputs": [],
   "source": [
    "# filtering df based on genre\n",
    "genre_list = ['Comedy','Drama','Action']\n",
    "df_genre = df[df.Major_Genre.isin(genre_list)]\n",
    "\n",
    "# filtering df_genre based on rating\n",
    "rating_list = ['G','PG','R']\n",
    "df_rating = df_genre[df_genre.MPAA_Rating.isin(rating_list)]\n",
    "\n",
    "# filtering df_rating based on the year range\n",
    "start_year = 1980\n",
    "end_year = 1999\n",
    "df_year = df_rating.query('Release_Year >= @start_year and Release_Year <= @end_year')\n",
    "top_us_gross_df = (df_year[df_year['US_Gross']\n",
    "                          .notnull()]\n",
    "                          .sort_values(\"US_Gross\", ascending=False)\n",
    "                          .head(10))\n",
    "# top_us_gross_df"
   ]
  },
  {
   "cell_type": "code",
   "execution_count": 139,
   "metadata": {},
   "outputs": [
    {
     "data": {
      "application/vnd.vegalite.v3+json": {
       "$schema": "https://vega.github.io/schema/vega-lite/v3.4.0.json",
       "config": {
        "axis": {
         "labelFontSize": 13,
         "titleFontSize": 18
        },
        "mark": {
         "tooltip": null
        },
        "title": {
         "fontSize": 20
        },
        "view": {
         "height": 300,
         "width": 400
        }
       },
       "data": {
        "name": "data-38ed35c4d0753ba009f123ce59cc72ad"
       },
       "datasets": {
        "data-38ed35c4d0753ba009f123ce59cc72ad": [
         {
          "Creative_Type": "Science Fiction",
          "Director": "Steven Spielberg",
          "Distributor": "Universal",
          "IMDB_Rating": 7.9,
          "IMDB_Votes": 105028,
          "MPAA_Rating": "PG",
          "Major_Genre": "Drama",
          "Production_Budget": 10500000,
          "Release_Date": "1982-06-11T00:00:00",
          "Release_Year": 1982,
          "Rotten_Tomatoes_Rating": null,
          "Running_Time_min": null,
          "Source": "Original Screenplay",
          "Title": "ET: The Extra-Terrestrial",
          "US_DVD_Sales": null,
          "US_Gross": 435110554,
          "Worldwide_Gross": 792910554
         },
         {
          "Creative_Type": "Contemporary Fiction",
          "Director": "Chris Columbus",
          "Distributor": "20th Century Fox",
          "IMDB_Rating": 7,
          "IMDB_Votes": 79080,
          "MPAA_Rating": "PG",
          "Major_Genre": "Comedy",
          "Production_Budget": 15000000,
          "Release_Date": "1990-11-16T00:00:00",
          "Release_Year": 1990,
          "Rotten_Tomatoes_Rating": 47,
          "Running_Time_min": null,
          "Source": "Original Screenplay",
          "Title": "Home Alone",
          "US_DVD_Sales": null,
          "US_Gross": 285761243,
          "Worldwide_Gross": 476684675
         },
         {
          "Creative_Type": "Science Fiction",
          "Director": "Ivan Reitman",
          "Distributor": "Sony Pictures",
          "IMDB_Rating": 6.8,
          "IMDB_Votes": 358,
          "MPAA_Rating": "PG",
          "Major_Genre": "Comedy",
          "Production_Budget": 30000000,
          "Release_Date": "1984-06-08T00:00:00",
          "Release_Year": 1984,
          "Rotten_Tomatoes_Rating": null,
          "Running_Time_min": null,
          "Source": "Original Screenplay",
          "Title": "Ghostbusters",
          "US_DVD_Sales": null,
          "US_Gross": 238632124,
          "Worldwide_Gross": 291632124
         },
         {
          "Creative_Type": "Fantasy",
          "Director": null,
          "Distributor": "Walt Disney Pictures",
          "IMDB_Rating": 7.8,
          "IMDB_Votes": 69090,
          "MPAA_Rating": "G",
          "Major_Genre": "Comedy",
          "Production_Budget": 28000000,
          "Release_Date": "1992-11-11T00:00:00",
          "Release_Year": 1992,
          "Rotten_Tomatoes_Rating": null,
          "Running_Time_min": null,
          "Source": "Original Screenplay",
          "Title": "Aladdin",
          "US_DVD_Sales": null,
          "US_Gross": 217350219,
          "Worldwide_Gross": 504050219
         },
         {
          "Creative_Type": "Historical Fiction",
          "Director": "Steven Spielberg",
          "Distributor": "Dreamworks SKG",
          "IMDB_Rating": 8.5,
          "IMDB_Votes": 270540,
          "MPAA_Rating": "R",
          "Major_Genre": "Drama",
          "Production_Budget": 65000000,
          "Release_Date": "1998-07-24T00:00:00",
          "Release_Year": 1998,
          "Rotten_Tomatoes_Rating": 91,
          "Running_Time_min": 169,
          "Source": "Original Screenplay",
          "Title": "Saving Private Ryan",
          "US_DVD_Sales": null,
          "US_Gross": 216335085,
          "Worldwide_Gross": 481635085
         },
         {
          "Creative_Type": "Science Fiction",
          "Director": "James Cameron",
          "Distributor": "Sony Pictures",
          "IMDB_Rating": 8.5,
          "IMDB_Votes": 237477,
          "MPAA_Rating": "R",
          "Major_Genre": "Action",
          "Production_Budget": 100000000,
          "Release_Date": "1991-07-02T00:00:00",
          "Release_Year": 1991,
          "Rotten_Tomatoes_Rating": 98,
          "Running_Time_min": null,
          "Source": "Original Screenplay",
          "Title": "Terminator 2: Judgment Day",
          "US_DVD_Sales": null,
          "US_Gross": 204859496,
          "Worldwide_Gross": 516816151
         },
         {
          "Creative_Type": "Contemporary Fiction",
          "Director": "Chris Columbus",
          "Distributor": "20th Century Fox",
          "IMDB_Rating": 5.8,
          "IMDB_Votes": 51408,
          "MPAA_Rating": "PG",
          "Major_Genre": "Comedy",
          "Production_Budget": 20000000,
          "Release_Date": "1992-11-20T00:00:00",
          "Release_Year": 1992,
          "Rotten_Tomatoes_Rating": 21,
          "Running_Time_min": null,
          "Source": "Original Screenplay",
          "Title": "Home Alone 2: Lost in New York",
          "US_DVD_Sales": null,
          "US_Gross": 173585516,
          "Worldwide_Gross": 358994850
         },
         {
          "Creative_Type": "Contemporary Fiction",
          "Director": "Wolfgang Petersen",
          "Distributor": "Sony Pictures",
          "IMDB_Rating": 6.3,
          "IMDB_Votes": 61394,
          "MPAA_Rating": "R",
          "Major_Genre": "Action",
          "Production_Budget": 85000000,
          "Release_Date": "1997-07-25T00:00:00",
          "Release_Year": 1997,
          "Rotten_Tomatoes_Rating": 78,
          "Running_Time_min": 124,
          "Source": "Original Screenplay",
          "Title": "Air Force One",
          "US_DVD_Sales": null,
          "US_Gross": 172956409,
          "Worldwide_Gross": 315268353
         },
         {
          "Creative_Type": "Dramatization",
          "Director": "Ron Howard",
          "Distributor": "Universal",
          "IMDB_Rating": 7.5,
          "IMDB_Votes": 87605,
          "MPAA_Rating": "PG",
          "Major_Genre": "Drama",
          "Production_Budget": 65000000,
          "Release_Date": "1995-06-30T00:00:00",
          "Release_Year": 1995,
          "Rotten_Tomatoes_Rating": null,
          "Running_Time_min": null,
          "Source": "Based on Book/Short Story",
          "Title": "Apollo 13",
          "US_DVD_Sales": null,
          "US_Gross": 172070496,
          "Worldwide_Gross": 334100000
         },
         {
          "Creative_Type": "Science Fiction",
          "Director": "Andy Wachowski",
          "Distributor": "Warner Bros.",
          "IMDB_Rating": 8.7,
          "IMDB_Votes": 380934,
          "MPAA_Rating": "R",
          "Major_Genre": "Action",
          "Production_Budget": 65000000,
          "Release_Date": "1999-03-31T00:00:00",
          "Release_Year": 1999,
          "Rotten_Tomatoes_Rating": 86,
          "Running_Time_min": 136,
          "Source": "Original Screenplay",
          "Title": "The Matrix",
          "US_DVD_Sales": null,
          "US_Gross": 171479930,
          "Worldwide_Gross": 460279930
         }
        ]
       },
       "encoding": {
        "color": {
         "field": "Title",
         "legend": null,
         "type": "nominal"
        },
        "tooltip": [
         {
          "field": "Release_Year",
          "title": "Release Year",
          "type": "nominal"
         },
         {
          "field": "Major_Genre",
          "format": "%Y",
          "title": "Genre",
          "type": "nominal"
         },
         {
          "field": "MPAA_Rating",
          "format": "%Y",
          "title": "MPAA Rating",
          "type": "nominal"
         },
         {
          "field": "gross_revenue_per_million",
          "format": ".2f",
          "title": "Gross Revenue (millions)",
          "type": "quantitative"
         }
        ],
        "x": {
         "field": "gross_revenue_per_million",
         "title": "Gross Revenue (millions of USD)",
         "type": "quantitative"
        },
        "y": {
         "axis": {
          "labelLimit": 300
         },
         "field": "Title",
         "sort": {
          "field": "gross_revenue_per_million",
          "order": "descending"
         },
         "title": null,
         "type": "nominal"
        }
       },
       "height": 300,
       "mark": "bar",
       "selection": {
        "selector018": {
         "bind": "scales",
         "encodings": [
          "x",
          "y"
         ],
         "type": "interval"
        }
       },
       "title": "Highest Grossing US Movies",
       "transform": [
        {
         "as": "gross_revenue_per_million",
         "calculate": "datum.US_Gross/1000000"
        }
       ],
       "width": 500
      },
      "image/png": "[encoded data removed]",
      "text/plain": [
       "<VegaLite 3 object>\n",
       "\n",
       "If you see this message, it means the renderer has not been properly enabled\n",
       "for the frontend that you are using. For more information, see\n",
       "https://altair-viz.github.io/user_guide/troubleshooting.html\n"
      ]
     },
     "execution_count": 139,
     "metadata": {},
     "output_type": "execute_result"
    }
   ],
   "source": [
    "\n",
    "top_gross = alt.Chart(top_us_gross_df).transform_calculate(\n",
    "    gross_revenue_per_million=\"datum.US_Gross/1000000\"\n",
    ").encode(\n",
    "    y = alt.Y(\"Title\", title=None,\n",
    "          sort=alt.EncodingSortField(\n",
    "              field=\"gross_revenue_per_million\",\n",
    "              order=\"descending\"),\n",
    "          axis=alt.Axis(labelLimit=300)),\n",
    "    tooltip=[alt.Tooltip(\"Release_Year:N\",\n",
    "                         title=\"Release Year\"),\n",
    "             alt.Tooltip(\"Major_Genre:N\",\n",
    "                         title=\"Genre\",\n",
    "                         format=\"%Y\"),\n",
    "             alt.Tooltip(\"MPAA_Rating:N\",\n",
    "                         title=\"MPAA Rating\",\n",
    "                         format=\"%Y\"),\n",
    "             alt.Tooltip(\"gross_revenue_per_million:Q\",\n",
    "                         title=\"Gross Revenue (millions)\",\n",
    "                         format=\".2f\")],\n",
    ").properties(\n",
    "    title=\"Highest Grossing US Movies\",\n",
    "    width=500,\n",
    "    height=300\n",
    ").configure_axis(labelFontSize=13,titleFontSize=18\n",
    ").configure_title(fontSize=20\n",
    ")\n",
    "\n",
    "top_us_gross_chart = top_gross.mark_bar(\n",
    ").encode(\n",
    "    alt.X(\"gross_revenue_per_million:Q\", title=\"Gross Revenue (millions of USD)\"),\n",
    "    color = alt.Color(\"Title:N\", legend=None\n",
    "))\n",
    "\n",
    "top_us_gross_chart.interactive()"
   ]
  },
  {
   "cell_type": "code",
   "execution_count": null,
   "metadata": {},
   "outputs": [],
   "source": []
  }
 ],
 "metadata": {
  "kernelspec": {
   "display_name": "Python 3",
   "language": "python",
   "name": "python3"
  },
  "language_info": {
   "codemirror_mode": {
    "name": "ipython",
    "version": 3
   },
   "file_extension": ".py",
   "mimetype": "text/x-python",
   "name": "python",
   "nbconvert_exporter": "python",
   "pygments_lexer": "ipython3",
   "version": "3.7.3"
  }
 },
 "nbformat": 4,
 "nbformat_minor": 4
}
